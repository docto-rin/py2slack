{
 "cells": [
  {
   "cell_type": "code",
   "execution_count": 3,
   "metadata": {},
   "outputs": [
    {
     "name": "stdout",
     "output_type": "stream",
     "text": [
      "Message sent successfully\n",
      "Message sent successfully\n"
     ]
    }
   ],
   "source": [
    "from py2slack import send_slack\n",
    "\n",
    "send_slack(\"Hello, Slack!\")\n",
    "send_slack(\"Here is README.md\", \"README.md\")"
   ]
  },
  {
   "cell_type": "code",
   "execution_count": 4,
   "metadata": {},
   "outputs": [
    {
     "name": "stdout",
     "output_type": "stream",
     "text": [
      "Running main1 process...\n",
      "Message sent successfully\n",
      "Running main2 process...\n",
      "[ipykernel_launcher.py] An error occurred:\n",
      "Error in main2\n",
      "\n",
      "Traceback:\n",
      "Traceback (most recent call last):\n",
      "  File \"/home/iwase/project_root/py2slack_pkg/py2slack/py2slack.py\", line 213, in wrapper\n",
      "    result = func(*args, **kwargs)\n",
      "  File \"/tmp/ipykernel_10156/3199087742.py\", line 10, in main2\n",
      "    raise Exception(\"Error in main2\")\n",
      "Exception: Error in main2\n",
      "\n",
      "Message sent successfully\n"
     ]
    },
    {
     "ename": "Exception",
     "evalue": "Error in main2",
     "output_type": "error",
     "traceback": [
      "\u001b[0;31m---------------------------------------------------------------------------\u001b[0m",
      "\u001b[0;31mException\u001b[0m                                 Traceback (most recent call last)",
      "Cell \u001b[0;32mIn[4], line 14\u001b[0m\n\u001b[1;32m     12\u001b[0m \u001b[38;5;28;01mif\u001b[39;00m \u001b[38;5;18m__name__\u001b[39m \u001b[38;5;241m==\u001b[39m \u001b[38;5;124m'\u001b[39m\u001b[38;5;124m__main__\u001b[39m\u001b[38;5;124m'\u001b[39m:\n\u001b[1;32m     13\u001b[0m     main1()\n\u001b[0;32m---> 14\u001b[0m     \u001b[43mmain2\u001b[49m\u001b[43m(\u001b[49m\u001b[43m)\u001b[49m\n",
      "File \u001b[0;32m~/project_root/py2slack_pkg/py2slack/py2slack.py:223\u001b[0m, in \u001b[0;36mslack_notify.<locals>.wrapper\u001b[0;34m(*args, **kwargs)\u001b[0m\n\u001b[1;32m    221\u001b[0m \u001b[38;5;28mprint\u001b[39m(error_message)\n\u001b[1;32m    222\u001b[0m send_slack(error_message)\n\u001b[0;32m--> 223\u001b[0m \u001b[38;5;28;01mraise\u001b[39;00m e\n",
      "File \u001b[0;32m~/project_root/py2slack_pkg/py2slack/py2slack.py:213\u001b[0m, in \u001b[0;36mslack_notify.<locals>.wrapper\u001b[0;34m(*args, **kwargs)\u001b[0m\n\u001b[1;32m    211\u001b[0m script_name \u001b[38;5;241m=\u001b[39m os\u001b[38;5;241m.\u001b[39mpath\u001b[38;5;241m.\u001b[39mbasename(sys\u001b[38;5;241m.\u001b[39margv[\u001b[38;5;241m0\u001b[39m])\n\u001b[1;32m    212\u001b[0m \u001b[38;5;28;01mtry\u001b[39;00m:\n\u001b[0;32m--> 213\u001b[0m     result \u001b[38;5;241m=\u001b[39m \u001b[43mfunc\u001b[49m\u001b[43m(\u001b[49m\u001b[38;5;241;43m*\u001b[39;49m\u001b[43margs\u001b[49m\u001b[43m,\u001b[49m\u001b[43m \u001b[49m\u001b[38;5;241;43m*\u001b[39;49m\u001b[38;5;241;43m*\u001b[39;49m\u001b[43mkwargs\u001b[49m\u001b[43m)\u001b[49m\n\u001b[1;32m    214\u001b[0m     send_slack(\u001b[38;5;124mf\u001b[39m\u001b[38;5;124m\"\u001b[39m\u001b[38;5;124m[\u001b[39m\u001b[38;5;132;01m{\u001b[39;00mscript_name\u001b[38;5;132;01m}\u001b[39;00m\u001b[38;5;124m] Process completed successfully!\u001b[39m\u001b[38;5;124m\"\u001b[39m)\n\u001b[1;32m    215\u001b[0m     \u001b[38;5;28;01mreturn\u001b[39;00m result\n",
      "Cell \u001b[0;32mIn[4], line 10\u001b[0m, in \u001b[0;36mmain2\u001b[0;34m()\u001b[0m\n\u001b[1;32m      7\u001b[0m \u001b[38;5;129m@slack_notify\u001b[39m\n\u001b[1;32m      8\u001b[0m \u001b[38;5;28;01mdef\u001b[39;00m\u001b[38;5;250m \u001b[39m\u001b[38;5;21mmain2\u001b[39m():\n\u001b[1;32m      9\u001b[0m     \u001b[38;5;28mprint\u001b[39m(\u001b[38;5;124m\"\u001b[39m\u001b[38;5;124mRunning main2 process...\u001b[39m\u001b[38;5;124m\"\u001b[39m)\n\u001b[0;32m---> 10\u001b[0m     \u001b[38;5;28;01mraise\u001b[39;00m \u001b[38;5;167;01mException\u001b[39;00m(\u001b[38;5;124m\"\u001b[39m\u001b[38;5;124mError in main2\u001b[39m\u001b[38;5;124m\"\u001b[39m)\n",
      "\u001b[0;31mException\u001b[0m: Error in main2"
     ]
    }
   ],
   "source": [
    "from py2slack import slack_notify\n",
    "\n",
    "@slack_notify\n",
    "def main1():\n",
    "    print(\"Running main1 process...\")\n",
    "\n",
    "@slack_notify\n",
    "def main2():\n",
    "    print(\"Running main2 process...\")\n",
    "    raise Exception(\"Error in main2\")\n",
    "\n",
    "if __name__ == '__main__':\n",
    "    main1()\n",
    "    main2()"
   ]
  },
  {
   "cell_type": "code",
   "execution_count": null,
   "metadata": {},
   "outputs": [],
   "source": []
  }
 ],
 "metadata": {
  "kernelspec": {
   "display_name": ".venv",
   "language": "python",
   "name": "python3"
  },
  "language_info": {
   "codemirror_mode": {
    "name": "ipython",
    "version": 3
   },
   "file_extension": ".py",
   "mimetype": "text/x-python",
   "name": "python",
   "nbconvert_exporter": "python",
   "pygments_lexer": "ipython3",
   "version": "3.9.19"
  }
 },
 "nbformat": 4,
 "nbformat_minor": 2
}
