{
 "cells": [
  {
   "cell_type": "code",
   "execution_count": 1,
   "metadata": {},
   "outputs": [
    {
     "name": "stdout",
     "output_type": "stream",
     "text": [
      "Message sent successfully\n",
      "Message sent successfully\n"
     ]
    }
   ],
   "source": [
    "from py2slack import send_slack\n",
    "\n",
    "# Send a simple Slack notification\n",
    "send_slack(\"Hello, Slack!\")\n",
    "send_slack(\"Here is README.md\", \"README.md\")\n"
   ]
  },
  {
   "cell_type": "code",
   "execution_count": 2,
   "metadata": {},
   "outputs": [
    {
     "name": "stdout",
     "output_type": "stream",
     "text": [
      "Running main1 process...\n",
      "Message sent successfully\n",
      "Running main2 process...\n",
      "[ipykernel_launcher.py] Function 'main2' encountered an error after 0.00 seconds:\n",
      "Error in main2\n",
      "\n",
      "Traceback:\n",
      "Traceback (most recent call last):\n",
      "  File \"/home/iwase/project_root/py2slack_pkg/py2slack/notify.py\", line 93, in wrapper\n",
      "    result = func(*args, **kwargs)\n",
      "  File \"/tmp/ipykernel_521227/1215218354.py\", line 14, in main2\n",
      "    raise Exception(\"Error in main2\")\n",
      "Exception: Error in main2\n",
      "\n",
      "Message sent successfully\n",
      "Caught an exception in main2: Error in main2\n"
     ]
    }
   ],
   "source": [
    "from py2slack import slack_notify\n",
    "\n",
    "# Use the decorator to automatically notify on process completion or error\n",
    "@slack_notify\n",
    "def main1():\n",
    "    print(\"Running main1 process...\")\n",
    "    # Simulate some processing time\n",
    "    import time\n",
    "    time.sleep(2)    \n",
    "\n",
    "@slack_notify\n",
    "def main2():\n",
    "    print(\"Running main2 process...\")\n",
    "    raise Exception(\"Error in main2\")\n",
    "\n",
    "if __name__ == '__main__':\n",
    "    main1()\n",
    "    try:\n",
    "        main2()\n",
    "    except Exception as e:\n",
    "        print(f\"Caught an exception in main2: {e}\")"
   ]
  },
  {
   "cell_type": "code",
   "execution_count": 3,
   "metadata": {},
   "outputs": [
    {
     "name": "stdout",
     "output_type": "stream",
     "text": [
      "4.00 seconds\n",
      "3 minutes, 4.00 seconds\n",
      "2 hours, 3 minutes, 4.00 seconds\n",
      "1 day, 2 hours, 3 minutes, 4.00 seconds\n"
     ]
    }
   ],
   "source": [
    "from py2slack import format_duration\n",
    "\n",
    "print(format_duration(4))\n",
    "print(format_duration(60*3 + 4))\n",
    "print(format_duration(3600*2 + 60*3 + 4))\n",
    "print(format_duration(86400 + 3600*2 + 60*3 + 4))\n"
   ]
  },
  {
   "cell_type": "code",
   "execution_count": null,
   "metadata": {},
   "outputs": [],
   "source": []
  }
 ],
 "metadata": {
  "kernelspec": {
   "display_name": ".venv",
   "language": "python",
   "name": "python3"
  },
  "language_info": {
   "codemirror_mode": {
    "name": "ipython",
    "version": 3
   },
   "file_extension": ".py",
   "mimetype": "text/x-python",
   "name": "python",
   "nbconvert_exporter": "python",
   "pygments_lexer": "ipython3",
   "version": "3.9.19"
  }
 },
 "nbformat": 4,
 "nbformat_minor": 2
}
